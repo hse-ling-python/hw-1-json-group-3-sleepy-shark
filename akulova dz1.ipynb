import json

twitter = []
for line in open('hw_3_twitter.json'):
    twitter.append(json.loads(line))


def task_1():  # задание 1
    print('всего', len(twitter), 'твитов')


def task_2():  # задание 2
    norm = 0
    for i in twitter:
        for a in i:
            if a == 'created_at':
                norm += 1  # считаем количество существующих твитов
    normpr = round(norm / len(twitter) * 100)  # процент существующих твитов
    delpr = 100 - normpr  # процент удаленных твитов
    print(normpr, delpr)


def task_3():  # задание 3
    spisok = ''
    for i in twitter:
        lang = str(i.get('lang'))
        if lang is None:
            break
        else:
            spisok += lang + ' '  # список всех языков в виде строки
    full_lang = spisok.split()  # преобразуем в список
    dd = dict()
    for i in full_lang:
        n = full_lang.count(i)  # считаем частотность
        dd[i] = dd.get(i, n)  # закрепляем частотность за каждым языком
    top_n = 10
    if len(dd) == 0 or top_n <= 0:
        list_of_top_n = ()
        return list_of_top_n
    list_of_top_n = tuple(sorted(dd, key=dd.get, reverse=True))  # упорядочиваем частотность языков по убыванию
    print('top languages')
    print(list_of_top_n[:top_n])  # выводим топ-10


def task_4():  # задание 4
    spisok = ''
    for i in twitter:
        id = str(i.get('id'))  # находим айди каждого пользователя
        if id is None:
            break
        else:
            spisok += id + ' '  # записываем все айди в строку
    spisok = spisok.split()  # теперь это список
    counter = {}

    for elem in spisok:
        counter[elem] = counter.get(elem, 0) + 1  # смотрим, есть ли в списке повторяющие айди

    doubles = {element: count for element, count in counter.items() if count > 1}  # записываем айди-дубликаты
    print(doubles)


def task_5():  # задание 5
    sigh = '@#%^[_]…{}/\$£¬`~.,:;?!()<>-"...&’|°'
    spisok = ''
    for i in twitter:
        ht = str(i.get('entities'))

        if ht is None:
            break
        else:
            spisok += ht + ' '
    full_tags = spisok.split()

    tags = ''
    for i, word in enumerate(full_tags):
        if 'hashtags' in full_tags[i] and 'text' in full_tags[i + 1]:
            tags += full_tags[i + 2] + ' '  # собираем строку из всех тэгов

    all_tags = tags.split()  # легким движением руки делаем из нее список
    dd = dict()
    for i in all_tags:
        for a in i:  # убираем лишние знаки препинания
            if a == "'":
                i = i.replace(a, '')
            elif a in sigh:
                i = i.replace(a, '')
        n = all_tags.count(i)  # считаем частотность каждого тэга
        dd[i] = dd.get(i, n)  # закрепляем частотность за тэгом
    top_n = 20
    if len(dd) == 0 or top_n <= 0:
        list_of_top_n = ()
        return list_of_top_n
    list_of_top_n = tuple(sorted(dd, key=dd.get, reverse=True))  # сортируем частотность тэгов по убыванию
    print('top tags')
    print(list_of_top_n[:top_n])  # вот и наш топ-20


def task_6():  # задание 6
    dd = dict()
    sign = '@#%^[_]…{}/\$£¬`~.,:;?!()<>-"...&’|°'
    tweet = ''
    for i in twitter:
        if 'en' in str(i.get('lang')):  # находим твиты на английском
            if i.get('retweeted_status') is not None or i.get('is_quote_status') is True:  # убираем ретвиты/цитаты
                continue
            else:
                tweet += i.get('text') + ' '  # пакуем твиты в строку
    tweet = tweet.lower()  # делаем все буквы строчными
    for i in tweet:
        if i == "'" or i in sign:  # убираем пунктуацию
            tweet = tweet.replace(i, ' ')
    final = tweet.split()  # обработанные твиты закидываем в список

    for i in final:
        if i == 'https' or i == 't' or i == 'co' or i == '':  # убираем лишнее (это бывшие ссылки на картинки, вроде)
            continue
        else:
            n = final.count(i)  # считаем частотность слов
        dd[i] = dd.get(i, n)  # фиксируем частотность к словам

    top_n = 50
    if len(dd) == 0 or top_n <= 0:
        list_of_top_n = ()
        return list_of_top_n
    list_of_top_n = tuple(sorted(dd, key=dd.get, reverse=True))  # сортируем частотность по убыванию
    print('top words')
    print(list_of_top_n[:top_n])  # выводим топ-50 слов
